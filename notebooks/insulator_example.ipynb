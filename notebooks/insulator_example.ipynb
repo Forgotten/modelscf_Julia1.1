{
 "cells": [
  {
   "cell_type": "markdown",
   "metadata": {},
   "source": [
    "## Solving an insulator system\n",
    "\n",
    "### A quick guide to using this short julia code"
   ]
  },
  {
   "cell_type": "markdown",
   "metadata": {},
   "source": [
    "We first need to include all the necessary files, which are contained in the /src folder (this has to be properly encapsulated within a module)"
   ]
  },
  {
   "cell_type": "code",
   "execution_count": 1,
   "metadata": {},
   "outputs": [
    {
     "data": {
      "text/plain": [
       "anderson_mix (generic function with 1 method)"
      ]
     },
     "execution_count": 1,
     "metadata": {},
     "output_type": "execute_result"
    }
   ],
   "source": [
    "include(\"../src/Atoms.jl\")\n",
    "include(\"../src/scfOptions.jl\")\n",
    "include(\"../src/Ham.jl\")\n",
    "include(\"../src/hartree_pot_bc.jl\")\n",
    "include(\"../src/pseudocharge.jl\")\n",
    "include(\"../src/getocc.jl\")\n",
    "include(\"../src/anderson_mix.jl\")\n"
   ]
  },
  {
   "cell_type": "markdown",
   "metadata": {},
   "source": [
    "We initialize some constants for the computation, in particular: the discretization step in space $dx$, the number of units, and the size of the lattice. (to check with Lin)"
   ]
  },
  {
   "cell_type": "code",
   "execution_count": 2,
   "metadata": {},
   "outputs": [],
   "source": [
    "dx = 0.25;\n",
    "Nunit = 16\n",
    "Lat = 10;"
   ]
  },
  {
   "cell_type": "markdown",
   "metadata": {},
   "source": [
    "Furthermore we define several other variables, which need to be properly tuned. "
   ]
  },
  {
   "cell_type": "code",
   "execution_count": 3,
   "metadata": {},
   "outputs": [],
   "source": [
    "YukawaK = 0.0100; # shift for the potential evaluation\n",
    "n_extra = 10;     # extra eigenvalues (above the occupation energy)\n",
    "epsil0 = 10.0;\n",
    "T_elec = 100;"
   ]
  },
  {
   "cell_type": "markdown",
   "metadata": {},
   "source": [
    "We define $\\beta = 1/T$ the inverse temperature."
   ]
  },
  {
   "cell_type": "code",
   "execution_count": 4,
   "metadata": {},
   "outputs": [],
   "source": [
    "kb = 3.1668e-6;\n",
    "au2K = 315774.67;\n",
    "Tbeta = au2K / T_elec;   # \\beta = 1/T"
   ]
  },
  {
   "cell_type": "markdown",
   "metadata": {},
   "source": [
    "We set the number of atoms in our linear molecule."
   ]
  },
  {
   "cell_type": "code",
   "execution_count": 5,
   "metadata": {},
   "outputs": [],
   "source": [
    "Ndist  = 1;  \n",
    "Natoms = round(Integer, Nunit / Ndist);"
   ]
  },
  {
   "cell_type": "markdown",
   "metadata": {},
   "source": [
    "We define the position of the atoms in our molecule,"
   ]
  },
  {
   "cell_type": "code",
   "execution_count": 6,
   "metadata": {},
   "outputs": [],
   "source": [
    "R = zeros(Natoms, 1); # this is defined as an 2D array\n",
    "for j = 1:Natoms\n",
    "  R[j] = (j-0.5)*Lat*Ndist+dx;\n",
    "end"
   ]
  },
  {
   "cell_type": "markdown",
   "metadata": {},
   "source": [
    "and then, several fields that will be encapsulated by an Atoms struct. In particular, the `sigma` variable characterizes the width of the Gaussian pseudocharge. If `sigma` is small, then it tends to form an insulator, and otherwise a metal."
   ]
  },
  {
   "cell_type": "code",
   "execution_count": 7,
   "metadata": {},
   "outputs": [],
   "source": [
    "Natoms = size(R)[1];\n",
    "sigma  = ones(Natoms,1)*(2.0);  # insulator\n",
    "omega  = ones(Natoms,1)*0.03;\n",
    "Eqdist = ones(Natoms,1)*10.0;\n",
    "mass   = ones(Natoms,1)*42000.0;\n",
    "nocc   = ones(Natoms,1)*2;          # number of electrons per atom\n",
    "Z      = nocc;"
   ]
  },
  {
   "cell_type": "markdown",
   "metadata": {},
   "source": [
    "Now that all the fields are properly defined, we construct a \"molecule\" by initializing an Atoms structure as follows:"
   ]
  },
  {
   "cell_type": "code",
   "execution_count": 8,
   "metadata": {},
   "outputs": [],
   "source": [
    "atoms = Atoms(Natoms, R, sigma,  omega,  Eqdist, mass, Z, nocc);"
   ]
  },
  {
   "cell_type": "markdown",
   "metadata": {},
   "source": [
    "Finally, we allocate a Hamiltonian structure (Ham) that will contain all the necessary information about the system"
   ]
  },
  {
   "cell_type": "code",
   "execution_count": 9,
   "metadata": {},
   "outputs": [],
   "source": [
    "H = Ham(Lat, Nunit, n_extra, dx, atoms,YukawaK, epsil0, Tbeta);"
   ]
  },
  {
   "cell_type": "markdown",
   "metadata": {},
   "source": [
    "in which the Hamiltonian contains all the information to multiply it by a discretized wave function \n",
    "\n",
    "$$H[\\rho] \\psi = -\\frac12 \\Delta \\psi + \\mathcal{V}_{\\text{tot}}[\\rho] \\psi.$$ \n",
    "\n",
    "Now we need to compute the number of occupied states and then initilize the potentials within the Hamiltonian. "
   ]
  },
  {
   "cell_type": "code",
   "execution_count": 10,
   "metadata": {},
   "outputs": [],
   "source": [
    "# total number of occupied orbitals\n",
    "Nocc = round(Integer, sum(atoms.nocc) / H.nspin);\n",
    "\n",
    "# initialize the potentials within the Hamiltonian and setting H[\\rho_0]\n",
    "init_pot!(H, Nocc);"
   ]
  },
  {
   "cell_type": "markdown",
   "metadata": {},
   "source": [
    "Now, we can run the self consistent iteration, which aims to solve the following non-linear eigenvalue problem\n",
    "\n",
    "$$ \\min_{\\Psi^*\\Psi = I \\,\\, \\text{and} \\, \\,  \\rho = \\mathrm{diag}(\\Psi \\Psi^*)} \\mathrm{Tr}[\\Psi^* H[\\rho] \\Psi]  $$\n",
    "\n",
    "However, there are many different options solve this nonlinear problem. Them all the options are enconded in a structure called scfOptions, which needs to be initializad and fed to the scf iteration. "
   ]
  },
  {
   "cell_type": "markdown",
   "metadata": {},
   "source": [
    "Within the scfOptions we need to prescribe the options for the linear eigensolver (in this case by default)"
   ]
  },
  {
   "cell_type": "code",
   "execution_count": 11,
   "metadata": {},
   "outputs": [],
   "source": [
    "eigOpts = eigOptions();"
   ]
  },
  {
   "cell_type": "markdown",
   "metadata": {},
   "source": [
    "and for the mixing (see the mixing notebook). In this case we use an Anderson mixing, for which we need to specify a couple of parameters."
   ]
  },
  {
   "cell_type": "code",
   "execution_count": 12,
   "metadata": {},
   "outputs": [],
   "source": [
    "betamix = 0.5;\n",
    "mixdim = 10;\n",
    "mixOpts = andersonMixOptions(H.Ns, betamix, mixdim );"
   ]
  },
  {
   "cell_type": "markdown",
   "metadata": {},
   "source": [
    "This two options are then encapulated in a general scfOptions structure."
   ]
  },
  {
   "cell_type": "code",
   "execution_count": 13,
   "metadata": {},
   "outputs": [],
   "source": [
    "scfOpts = scfOptions(eigOpts, mixOpts);"
   ]
  },
  {
   "cell_type": "markdown",
   "metadata": {},
   "source": [
    "Now, we run the scf iteration. In particular, it will modify the Hamiltonian structure, which contains all the necessary information, including $\\rho$, the eigenmodes $\\Psi$ among many others. "
   ]
  },
  {
   "cell_type": "code",
   "execution_count": 14,
   "metadata": {},
   "outputs": [
    {
     "data": {
      "text/plain": [
       "16-element Array{Float64,1}:\n",
       " Inf                     \n",
       "   0.7783974139842864    \n",
       "   0.12055900752755527   \n",
       "   0.13554667539448126   \n",
       "   0.01596521316689137   \n",
       "   0.009460767496971723  \n",
       "   0.007452938117459521  \n",
       "   0.0019526676290163166 \n",
       "   0.0019020896536013688 \n",
       "   0.0017938393271052838 \n",
       "   0.0010182181842469428 \n",
       "   0.00025430240424064257\n",
       "   1.9513814241598792e-5 \n",
       "   9.452878787562846e-6  \n",
       "   1.0812574796037418e-7 \n",
       "   2.7715964519369925e-8 "
      ]
     },
     "execution_count": 14,
     "metadata": {},
     "output_type": "execute_result"
    }
   ],
   "source": [
    "# running the scf iteration\n",
    "VtoterrHist = scf!(H, scfOpts)"
   ]
  },
  {
   "cell_type": "code",
   "execution_count": 15,
   "metadata": {},
   "outputs": [],
   "source": [
    "using PyPlot"
   ]
  },
  {
   "cell_type": "markdown",
   "metadata": {},
   "source": [
    "ploting the eigenvalues for the insulator"
   ]
  },
  {
   "cell_type": "code",
   "execution_count": 16,
   "metadata": {},
   "outputs": [
    {
     "data": {
      "image/png": "[encoded data removed]",
      "text/plain": [
       "Figure(PyObject <Figure size 640x480 with 1 Axes>)"
      ]
     },
     "metadata": {},
     "output_type": "display_data"
    },
    {
     "data": {
      "text/plain": [
       "PyObject <matplotlib.legend.Legend object at 0x10f6cccc0>"
      ]
     },
     "execution_count": 16,
     "metadata": {},
     "output_type": "execute_result"
    }
   ],
   "source": [
    "plot(H.ev,\"b-o\",label=\"all\")\n",
    "plot(H.ev[1:Nocc],\"r-o\",label=\"occupied\")\n",
    "legend()"
   ]
  },
  {
   "cell_type": "code",
   "execution_count": 17,
   "metadata": {},
   "outputs": [
    {
     "data": {
      "image/png": "[encoded data removed]",
      "text/plain": [
       "Figure(PyObject <Figure size 640x480 with 1 Axes>)"
      ]
     },
     "metadata": {},
     "output_type": "display_data"
    },
    {
     "data": {
      "text/plain": [
       "1-element Array{PyCall.PyObject,1}:\n",
       " PyObject <matplotlib.lines.Line2D object at 0x12719fb38>"
      ]
     },
     "execution_count": 17,
     "metadata": {},
     "output_type": "execute_result"
    }
   ],
   "source": [
    "plot(1:H.Ns,H.rho,\"b-\")"
   ]
  },
  {
   "cell_type": "code",
   "execution_count": null,
   "metadata": {},
   "outputs": [],
   "source": []
  }
 ],
 "metadata": {
  "anaconda-cloud": {},
  "kernelspec": {
   "display_name": "Julia 1.1.0",
   "language": "julia",
   "name": "julia-1.1"
  },
  "language_info": {
   "file_extension": ".jl",
   "mimetype": "application/julia",
   "name": "julia",
   "version": "1.1.0"
  }
 },
 "nbformat": 4,
 "nbformat_minor": 2
}
