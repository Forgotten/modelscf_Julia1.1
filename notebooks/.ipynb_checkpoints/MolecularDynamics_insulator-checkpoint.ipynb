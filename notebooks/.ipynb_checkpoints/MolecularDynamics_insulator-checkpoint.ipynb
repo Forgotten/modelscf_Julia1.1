{
 "cells": [
  {
   "cell_type": "code",
   "execution_count": 1,
   "metadata": {},
   "outputs": [
    {
     "data": {
      "text/plain": [
       "time_evolution (generic function with 1 method)"
      ]
     },
     "execution_count": 1,
     "metadata": {},
     "output_type": "execute_result"
    }
   ],
   "source": [
    "include(\"../src/Atoms.jl\")\n",
    "include(\"../src/scfOptions.jl\")\n",
    "include(\"../src/anderson_mix.jl\")\n",
    "include(\"../src/kerker_mix.jl\")\n",
    "include(\"../src/Ham.jl\")\n",
    "include(\"../src/hartree_pot_bc.jl\")\n",
    "include(\"../src/pseudocharge.jl\")\n",
    "include(\"../src/getocc.jl\")\n",
    "include(\"../src/Integrators.jl\")"
   ]
  },
  {
   "cell_type": "code",
   "execution_count": 2,
   "metadata": {},
   "outputs": [],
   "source": [
    "dx = 0.5;\n",
    "Nunit = 8;   # number of units\n",
    "Lat = 10;     # size of the lattice\n",
    "Ls = Nunit*Lat;\n",
    "# using the default values in Lin's code\n",
    "YukawaK = 0.0100\n",
    "n_extra = 10;\n",
    "epsil0 = 10.0;\n",
    "T_elec = 100.0;\n",
    "\n",
    "kb = 3.1668e-6;\n",
    "au2K = 315774.67;\n",
    "Tbeta = au2K / T_elec;\n",
    "\n",
    "betamix = 0.5;\n",
    "mixdim = 10;\n",
    "\n",
    "Ndist  = 1;   # Temporary variable\n",
    "Natoms = round(Integer, Nunit / Ndist); # number of atoms\n",
    "\n",
    "sigma  = ones(Natoms,1)*(1.0);  # insulator\n",
    "omega  = ones(Natoms,1)*0.03;\n",
    "Eqdist = ones(Natoms,1)*10.0;\n",
    "mass   = ones(Natoms,1)*42000.0;\n",
    "nocc   = ones(Natoms,1)*2;          # number of electrons per atom\n",
    "Z      = nocc;"
   ]
  },
  {
   "cell_type": "code",
   "execution_count": 3,
   "metadata": {},
   "outputs": [
    {
     "data": {
      "text/plain": [
       "forces (generic function with 1 method)"
      ]
     },
     "execution_count": 3,
     "metadata": {},
     "output_type": "execute_result"
    }
   ],
   "source": [
    "function forces(x::Array{Float64,1})\n",
    "    # input\n",
    "    #       x: vector with the position of the atoms\n",
    "    # output\n",
    "    #       f: forces at the center of the atoms\n",
    "\n",
    "    R = reshape(x, length(x), 1) # we need to make it a two dimensional array\n",
    "    # creating an atom structure\n",
    "    atoms = Atoms(Natoms, R, sigma,  omega,  Eqdist, mass, Z, nocc);\n",
    "    # allocating a Hamiltonian\n",
    "    ham = Ham(Lat, Nunit, n_extra, dx, atoms,YukawaK, epsil0, Tbeta)\n",
    "\n",
    "    # total number of occupied orbitals\n",
    "    Nocc = round(Integer, sum(atoms.nocc) / ham.nspin);\n",
    "\n",
    "    # setting the options for the scf iteration\n",
    "    mixOpts = andersonMixOptions(ham.Ns, betamix, mixdim )\n",
    "    eigOpts = eigOptions(1.e-8, 1000, \"eigs\");\n",
    "    scfOpts = scfOptions(1.e-6, 300, eigOpts, mixOpts)\n",
    "\n",
    "    # initialize the potentials within the Hemiltonian, setting H[\\rho_0]\n",
    "    init_pot!(ham, Nocc)\n",
    "\n",
    "    # running the scf iteration\n",
    "    @time VtoterrHist = scf!(ham, scfOpts)\n",
    "\n",
    "    if VtoterrHist[end] > scfOpts.SCFtol\n",
    "        println(\"convergence not achieved!! \")\n",
    "    end\n",
    "\n",
    "    # we compute the forces \n",
    "    get_force!(ham)\n",
    "\n",
    "    return ham.atoms.force[:]\n",
    "end\n"
   ]
  },
  {
   "cell_type": "code",
   "execution_count": 4,
   "metadata": {},
   "outputs": [
    {
     "name": "stdout",
     "output_type": "stream",
     "text": [
      "initial conditions\n",
      "  3.394663 seconds (5.74 M allocations: 430.407 MiB, 6.44% gc time)\n",
      "running the loop\n",
      "  0.878244 seconds (1.13 M allocations: 210.544 MiB, 3.91% gc time)\n",
      "  0.830885 seconds (1.13 M allocations: 210.377 MiB, 3.01% gc time)\n",
      "  0.842353 seconds (1.13 M allocations: 209.467 MiB, 3.37% gc time)\n",
      "  0.835232 seconds (1.13 M allocations: 209.663 MiB, 3.01% gc time)\n",
      "  0.852453 seconds (1.13 M allocations: 209.535 MiB, 3.52% gc time)\n",
      "  0.834780 seconds (1.13 M allocations: 209.754 MiB, 3.42% gc time)\n",
      "  0.888504 seconds (1.13 M allocations: 209.424 MiB, 2.87% gc time)\n",
      "  0.877756 seconds (1.14 M allocations: 211.197 MiB, 3.34% gc time)\n",
      "  0.845026 seconds (1.13 M allocations: 209.864 MiB, 3.03% gc time)\n",
      "  0.830079 seconds (1.14 M allocations: 211.245 MiB, 3.08% gc time)\n",
      "  0.864344 seconds (1.13 M allocations: 210.336 MiB, 3.21% gc time)\n",
      "  0.854230 seconds (1.13 M allocations: 210.047 MiB, 3.11% gc time)\n",
      "  0.845546 seconds (1.13 M allocations: 209.334 MiB, 3.53% gc time)\n",
      "  0.838379 seconds (1.13 M allocations: 209.998 MiB, 3.46% gc time)\n",
      "  0.843971 seconds (1.13 M allocations: 209.780 MiB, 3.00% gc time)\n",
      "  0.871266 seconds (1.13 M allocations: 209.465 MiB, 3.46% gc time)\n",
      "  0.893029 seconds (1.12 M allocations: 208.934 MiB, 3.12% gc time)\n",
      "  0.879525 seconds (1.13 M allocations: 209.176 MiB, 3.53% gc time)\n",
      "  0.853395 seconds (1.13 M allocations: 209.909 MiB, 3.37% gc time)\n",
      "  0.876163 seconds (1.13 M allocations: 210.195 MiB, 3.00% gc time)\n",
      "loop finished\n"
     ]
    },
    {
     "data": {
      "text/plain": [
       "([7.5 15.5 … 65.5 75.5; 7.5 15.5 … 65.5 75.5; … ; 7.49903 15.5009 … 65.5 75.5001; 7.49892 15.501 … 65.5 75.5001], [0.0 0.0 … 0.0 0.0; -0.000538771 0.000482747 … 2.40118e-8 5.586e-5; … ; -0.0102298 0.00916498 … 4.99806e-7 0.00106124; -0.0107674 0.00964652 … 5.31078e-7 0.00111709], [-0.0538773 0.0482748 … 2.40023e-6 0.00558601; -0.053877 0.0482745 … 2.40214e-6 0.005586; … ; -0.0537683 0.0481608 … 3.09004e-6 0.00558447; -0.0537566 0.0481485 … 3.16449e-6 0.0055843])"
      ]
     },
     "execution_count": 4,
     "metadata": {},
     "output_type": "execute_result"
    }
   ],
   "source": [
    "# Settign the time evolution\n",
    "\n",
    "dt = 0.01\n",
    "\n",
    "x0 = zeros(Natoms); # this is defined as an 2D array\n",
    "\n",
    "for j = 1:Natoms\n",
    "  x0[j] = (j-0.5)*Lat*Ndist+dx;\n",
    "end\n",
    "#x1 = x0 + dt*[1, -1 ] # with velocity\n",
    "x0[1] = x0[1] + 2\n",
    "x1 = x0\n",
    "\n",
    "(x, v, vdot) = time_evolution(velocity_verlet, x -> 10*forces(x), dt, 20, x0, x1)"
   ]
  },
  {
   "cell_type": "code",
   "execution_count": 5,
   "metadata": {},
   "outputs": [
    {
     "data": {
      "text/plain": [
       "21×8 Array{Float64,2}:\n",
       " 7.5      15.5     25.5  35.5  45.5  55.5  65.5  75.5   \n",
       " 7.5      15.5     25.5  35.5  45.5  55.5  65.5  75.5   \n",
       " 7.49999  15.5     25.5  35.5  45.5  55.5  65.5  75.5   \n",
       " 7.49998  15.5     25.5  35.5  45.5  55.5  65.5  75.5   \n",
       " 7.49996  15.5     25.5  35.5  45.5  55.5  65.5  75.5   \n",
       " 7.49993  15.5001  25.5  35.5  45.5  55.5  65.5  75.5   \n",
       " 7.4999   15.5001  25.5  35.5  45.5  55.5  65.5  75.5   \n",
       " 7.49987  15.5001  25.5  35.5  45.5  55.5  65.5  75.5   \n",
       " 7.49983  15.5002  25.5  35.5  45.5  55.5  65.5  75.5   \n",
       " 7.49978  15.5002  25.5  35.5  45.5  55.5  65.5  75.5   \n",
       " 7.49973  15.5002  25.5  35.5  45.5  55.5  65.5  75.5   \n",
       " 7.49967  15.5003  25.5  35.5  45.5  55.5  65.5  75.5   \n",
       " 7.49961  15.5003  25.5  35.5  45.5  55.5  65.5  75.5   \n",
       " 7.49954  15.5004  25.5  35.5  45.5  55.5  65.5  75.5   \n",
       " 7.49947  15.5005  25.5  35.5  45.5  55.5  65.5  75.5001\n",
       " 7.49939  15.5005  25.5  35.5  45.5  55.5  65.5  75.5001\n",
       " 7.49931  15.5006  25.5  35.5  45.5  55.5  65.5  75.5001\n",
       " 7.49922  15.5007  25.5  35.5  45.5  55.5  65.5  75.5001\n",
       " 7.49913  15.5008  25.5  35.5  45.5  55.5  65.5  75.5001\n",
       " 7.49903  15.5009  25.5  35.5  45.5  55.5  65.5  75.5001\n",
       " 7.49892  15.501   25.5  35.5  45.5  55.5  65.5  75.5001"
      ]
     },
     "execution_count": 5,
     "metadata": {},
     "output_type": "execute_result"
    }
   ],
   "source": [
    "x"
   ]
  },
  {
   "cell_type": "code",
   "execution_count": 6,
   "metadata": {},
   "outputs": [
    {
     "data": {
      "text/plain": [
       "21×8 Array{Float64,2}:\n",
       "  0.0          0.0          0.0         …  0.0         0.0        \n",
       " -0.000538771  0.000482747  1.44942e-7     2.40118e-8  5.586e-5   \n",
       " -0.00107754   0.000965487  2.90211e-7     4.80619e-8  0.00011172 \n",
       " -0.00161629   0.00144821   4.36134e-7     7.21884e-8  0.00016758 \n",
       " -0.00215503   0.00193092   5.83041e-7     9.64297e-8  0.000223439\n",
       " -0.00269374   0.00241361   7.31256e-7  …  1.20824e-7  0.000279298\n",
       " -0.00323242   0.00289626   8.81109e-7     1.4541e-7   0.000335157\n",
       " -0.00377106   0.00337887   1.03293e-6     1.70224e-7  0.000391015\n",
       " -0.00430966   0.00386144   1.18704e-6     1.95307e-7  0.000446873\n",
       " -0.00484822   0.00434396   1.34376e-6     2.20696e-7  0.00050273 \n",
       " -0.00538672   0.00482642   1.50344e-6  …  2.46428e-7  0.000558586\n",
       " -0.00592516   0.00530882   1.66639e-6     2.72543e-7  0.000614442\n",
       " -0.00646353   0.00579115   1.83294e-6     2.99079e-7  0.000670296\n",
       " -0.00700183   0.0062734    2.00342e-6     3.26073e-7  0.000726149\n",
       " -0.00754005   0.00675557   2.17816e-6     3.53564e-7  0.000782002\n",
       " -0.00807819   0.00723766   2.35748e-6  …  3.8159e-7   0.000837853\n",
       " -0.00861624   0.00771964   2.54172e-6     4.10189e-7  0.000893703\n",
       " -0.00915419   0.00820153   2.73119e-6     4.39399e-7  0.000949551\n",
       " -0.00969203   0.00868331   2.92623e-6     4.69259e-7  0.0010054  \n",
       " -0.0102298    0.00916498   3.12716e-6     4.99806e-7  0.00106124 \n",
       " -0.0107674    0.00964652   3.33432e-6  …  5.31078e-7  0.00111709 "
      ]
     },
     "execution_count": 6,
     "metadata": {},
     "output_type": "execute_result"
    }
   ],
   "source": [
    "v"
   ]
  },
  {
   "cell_type": "code",
   "execution_count": 7,
   "metadata": {},
   "outputs": [
    {
     "name": "stdout",
     "output_type": "stream",
     "text": [
      "initial conditions\n",
      "  0.415349 seconds (559.32 k allocations: 103.394 MiB, 4.69% gc time)\n",
      "running the loop\n",
      "  0.530032 seconds (764.97 k allocations: 141.446 MiB, 3.34% gc time)\n",
      "  0.569122 seconds (806.92 k allocations: 149.205 MiB, 3.66% gc time)\n",
      "  0.561689 seconds (799.18 k allocations: 147.849 MiB, 3.77% gc time)\n",
      "  0.704824 seconds (1.02 M allocations: 189.198 MiB, 3.37% gc time)\n",
      "  0.682717 seconds (978.29 k allocations: 181.247 MiB, 3.96% gc time)\n",
      "  0.701013 seconds (1.02 M allocations: 188.847 MiB, 3.42% gc time)\n",
      "  0.705068 seconds (1.02 M allocations: 189.220 MiB, 3.86% gc time)\n",
      "  0.700146 seconds (1.02 M allocations: 188.297 MiB, 3.98% gc time)\n",
      "  0.750378 seconds (1.09 M allocations: 202.768 MiB, 3.61% gc time)\n",
      "  0.767136 seconds (1.12 M allocations: 207.147 MiB, 3.49% gc time)\n",
      "  0.809106 seconds (1.16 M allocations: 214.342 MiB, 3.87% gc time)\n",
      "  0.798357 seconds (1.15 M allocations: 213.642 MiB, 3.71% gc time)\n",
      "  0.802248 seconds (1.15 M allocations: 214.109 MiB, 3.75% gc time)\n",
      "  0.796035 seconds (1.15 M allocations: 213.810 MiB, 3.75% gc time)\n",
      "  0.816454 seconds (1.18 M allocations: 219.614 MiB, 3.70% gc time)\n",
      "  0.815133 seconds (1.18 M allocations: 218.718 MiB, 3.65% gc time)\n",
      "  0.819771 seconds (1.18 M allocations: 219.873 MiB, 3.67% gc time)\n",
      "  0.868201 seconds (1.22 M allocations: 225.974 MiB, 3.43% gc time)\n",
      "  0.794774 seconds (1.14 M allocations: 211.025 MiB, 3.75% gc time)\n",
      "  0.796757 seconds (1.13 M allocations: 209.222 MiB, 3.44% gc time)\n",
      "loop finished\n"
     ]
    },
    {
     "data": {
      "text/plain": [
       "([5.5 15.5 … 65.5 75.5; 5.6 15.5 … 65.5 75.5; … ; 7.39981 15.5001 … 65.5 75.5; 7.49977 15.5002 … 65.5 75.5001], [10.0 0.0 … 0.0 0.0; 9.99999 3.60481e-6 … -4.19613e-9 3.23474e-6; … ; 9.99654 0.00276485 … 2.66286e-7 0.000689631; 9.99603 0.00321954 … 2.92069e-7 0.000745073], [-2.03955e-12 4.05186e-12 … 1.25049e-12 2.0213e-13; -0.0013659 0.000720962 … -8.39228e-7 0.000646947; … ; -0.0482066 0.0426877 … 2.36686e-6 0.005503; -0.0538536 0.0482502 … 2.78987e-6 0.00558539])"
      ]
     },
     "execution_count": 7,
     "metadata": {},
     "output_type": "execute_result"
    }
   ],
   "source": [
    "# Settign the time evolution\n",
    "\n",
    "dt = 0.01\n",
    "\n",
    "x0 = zeros(Natoms); # this is defined as an 2D array\n",
    "\n",
    "for j = 1:Natoms\n",
    "  x0[j] = (j-0.5)*Lat*Ndist+dx;\n",
    "end\n",
    "\n",
    "x1 = x0 + dt*[1, 0, 0, 0, 0, 0, 0, 0] # with velocity\n",
    "\n",
    "(x, v, vdot) = time_evolution(velocity_verlet, x -> 10*forces(x), dt, 20, x0, x1)"
   ]
  },
  {
   "cell_type": "code",
   "execution_count": 8,
   "metadata": {},
   "outputs": [
    {
     "data": {
      "text/plain": [
       "21×8 Array{Float64,2}:\n",
       " 5.5      15.5     25.5  35.5  45.5  55.5  65.5  75.5   \n",
       " 5.6      15.5     25.5  35.5  45.5  55.5  65.5  75.5   \n",
       " 5.7      15.5     25.5  35.5  45.5  55.5  65.5  75.5   \n",
       " 5.8      15.5     25.5  35.5  45.5  55.5  65.5  75.5   \n",
       " 5.9      15.5     25.5  35.5  45.5  55.5  65.5  75.5   \n",
       " 6.0      15.5     25.5  35.5  45.5  55.5  65.5  75.5   \n",
       " 6.1      15.5     25.5  35.5  45.5  55.5  65.5  75.5   \n",
       " 6.19999  15.5     25.5  35.5  45.5  55.5  65.5  75.5   \n",
       " 6.29999  15.5     25.5  35.5  45.5  55.5  65.5  75.5   \n",
       " 6.39998  15.5     25.5  35.5  45.5  55.5  65.5  75.5   \n",
       " 6.49998  15.5     25.5  35.5  45.5  55.5  65.5  75.5   \n",
       " 6.59997  15.5     25.5  35.5  45.5  55.5  65.5  75.5   \n",
       " 6.69996  15.5     25.5  35.5  45.5  55.5  65.5  75.5   \n",
       " 6.79995  15.5     25.5  35.5  45.5  55.5  65.5  75.5   \n",
       " 6.89993  15.5     25.5  35.5  45.5  55.5  65.5  75.5   \n",
       " 6.99991  15.5001  25.5  35.5  45.5  55.5  65.5  75.5   \n",
       " 7.09989  15.5001  25.5  35.5  45.5  55.5  65.5  75.5   \n",
       " 7.19987  15.5001  25.5  35.5  45.5  55.5  65.5  75.5   \n",
       " 7.29984  15.5001  25.5  35.5  45.5  55.5  65.5  75.5   \n",
       " 7.39981  15.5001  25.5  35.5  45.5  55.5  65.5  75.5   \n",
       " 7.49977  15.5002  25.5  35.5  45.5  55.5  65.5  75.5001"
      ]
     },
     "execution_count": 8,
     "metadata": {},
     "output_type": "execute_result"
    }
   ],
   "source": [
    "x"
   ]
  },
  {
   "cell_type": "code",
   "execution_count": 9,
   "metadata": {},
   "outputs": [
    {
     "data": {
      "text/plain": [
       "21×8 Array{Float64,2}:\n",
       " 10.0      0.0          0.0          0.0          …   0.0         0.0        \n",
       "  9.99999  3.60481e-6   1.3881e-9   -4.03465e-9      -4.19613e-9  3.23474e-6 \n",
       "  9.99997  1.48144e-5   1.01312e-8  -8.5723e-9       -1.91725e-9  1.25985e-5 \n",
       "  9.99994  3.44912e-5   2.18341e-8  -6.5404e-9        1.31394e-8  2.74588e-5 \n",
       "  9.99989  6.36121e-5   3.0822e-8   -4.29282e-9       2.72665e-8  4.72637e-5 \n",
       "  9.99983  0.00010325   3.98612e-8   1.25546e-9   …   3.52806e-8  7.15076e-5 \n",
       "  9.99975  0.000154607  5.3038e-8    6.47261e-9       4.12777e-8  9.97337e-5 \n",
       "  9.99965  0.00021902   7.30476e-8   4.65572e-9       4.95265e-8  0.000131531\n",
       "  9.99954  0.000297976  1.00916e-7  -9.15183e-10      5.73617e-8  0.000166536\n",
       "  9.9994   0.000393124  1.33852e-7  -5.27076e-9       6.81505e-8  0.000204421\n",
       "  9.99925  0.000506301  1.71868e-7  -8.89861e-9   …   8.47188e-8  0.000244901\n",
       "  9.99907  0.000639555  2.20274e-7  -8.89685e-9       1.01792e-7  0.000287703\n",
       "  9.99887  0.000795172  2.74067e-7  -6.1598e-9        1.17771e-7  0.00033258 \n",
       "  9.99864  0.000975702  3.32064e-7  -9.28959e-9       1.38362e-7  0.000379332\n",
       "  9.99839  0.00118397   4.01271e-7  -1.41065e-8       1.57332e-7  0.000427765\n",
       "  9.9981   0.00142312   4.87406e-7  -1.33088e-8   …   1.78525e-7  0.000477701\n",
       "  9.99777  0.00169667   5.857e-7    -1.19271e-8       2.01615e-7  0.000528986\n",
       "  9.99741  0.0020085    6.92927e-7  -1.55063e-8       2.22245e-7  0.000581483\n",
       "  9.997    0.00236296   8.11964e-7  -2.09652e-8       2.44626e-7  0.000635067\n",
       "  9.99654  0.00276485   9.43739e-7  -2.20236e-8       2.66286e-7  0.000689631\n",
       "  9.99603  0.00321954   1.09147e-6  -2.05342e-8   …   2.92069e-7  0.000745073"
      ]
     },
     "execution_count": 9,
     "metadata": {},
     "output_type": "execute_result"
    }
   ],
   "source": [
    "v"
   ]
  },
  {
   "cell_type": "code",
   "execution_count": null,
   "metadata": {},
   "outputs": [],
   "source": []
  }
 ],
 "metadata": {
  "kernelspec": {
   "display_name": "Julia 1.1.0",
   "language": "julia",
   "name": "julia-1.1"
  },
  "language_info": {
   "file_extension": ".jl",
   "mimetype": "application/julia",
   "name": "julia",
   "version": "1.1.0"
  }
 },
 "nbformat": 4,
 "nbformat_minor": 2
}
